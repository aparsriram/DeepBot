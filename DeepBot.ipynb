{
 "cells": [
  {
   "cell_type": "markdown",
   "metadata": {
    "id": "rduUGf2qlwfb"
   },
   "source": [
    "# Step 1: Mount Google Drive in Colab"
   ]
  },
  {
   "cell_type": "code",
   "execution_count": 1,
   "metadata": {
    "colab": {
     "base_uri": "https://localhost:8080/"
    },
    "id": "7NbRkJAJZjrK",
    "outputId": "51e1a0d2-cef9-4ff2-cf71-f7b50ef735ad"
   },
   "outputs": [
    {
     "name": "stdout",
     "output_type": "stream",
     "text": [
      "Drive already mounted at /content/drive; to attempt to forcibly remount, call drive.mount(\"/content/drive\", force_remount=True).\n"
     ]
    }
   ],
   "source": [
    "# Mounting Google drive to access the NPTEL Data\n",
    "# This brings in all Drive contents to Storage in Google Colab\n",
    "# Folder link: https://drive.google.com/drive/folders/1DxFVBq2RQxmP_-N2hiAKxyY4FGHmwq2-?usp=sharing\n",
    "# Copy the folder to your drive before using this notebook\n",
    "\n",
    "from google.colab import drive\n",
    "drive.mount(\"/content/drive\")"
   ]
  },
  {
   "cell_type": "code",
   "execution_count": 2,
   "metadata": {
    "colab": {
     "base_uri": "https://localhost:8080/"
    },
    "id": "xWuvC6Z_f8os",
    "outputId": "0f3e0865-50f0-4ca3-d603-7233730bcd69"
   },
   "outputs": [
    {
     "name": "stdout",
     "output_type": "stream",
     "text": [
      " Assignments  'Lecture Slides'\t'Lecture Transcripts.pdf'\n"
     ]
    }
   ],
   "source": [
    "!ls \"/content/drive/MyDrive/Deep Learning\""
   ]
  },
  {
   "cell_type": "markdown",
   "metadata": {
    "id": "el_FmnZyl1tM"
   },
   "source": [
    "# Step 2: Extract Text from PDFs"
   ]
  },
  {
   "cell_type": "code",
   "execution_count": 3,
   "metadata": {
    "colab": {
     "base_uri": "https://localhost:8080/"
    },
    "id": "ea1VQrzojPWZ",
    "outputId": "2eb63d09-71b4-4090-ffc2-e23e54e8b791"
   },
   "outputs": [
    {
     "name": "stdout",
     "output_type": "stream",
     "text": [
      "Requirement already satisfied: PyMuPDF in /usr/local/lib/python3.11/dist-packages (1.26.0)\n"
     ]
    }
   ],
   "source": [
    "!pip install PyMuPDF"
   ]
  },
  {
   "cell_type": "code",
   "execution_count": 4,
   "metadata": {
    "id": "ph-xgAtJltL3"
   },
   "outputs": [],
   "source": [
    "# Method to extract text from PDF\n",
    "\n",
    "import fitz\n",
    "\n",
    "def extract_text_from_pdf(pdf_path):\n",
    "  pdf = fitz.open(pdf_path)\n",
    "  text = \"\"\n",
    "  for page in pdf:\n",
    "    text += page.get_text()\n",
    "  return text"
   ]
  },
  {
   "cell_type": "code",
   "execution_count": 5,
   "metadata": {
    "id": "QDCov9Zsm-MY"
   },
   "outputs": [],
   "source": [
    "# Extract data from Assignments Folder\n",
    "\n",
    "import os\n",
    "assignment_folder = \"/content/drive/MyDrive/Deep Learning/Assignments\"\n",
    "assignment_data = []\n",
    "\n",
    "for files in os.listdir(assignment_folder):\n",
    "  if files.endswith(\".pdf\"):\n",
    "    pdf_path = os.path.join(assignment_folder, files)\n",
    "    text = extract_text_from_pdf(pdf_path)\n",
    "    assignment_data.append({'title': files, 'content': text})"
   ]
  },
  {
   "cell_type": "code",
   "execution_count": 6,
   "metadata": {
    "colab": {
     "base_uri": "https://localhost:8080/"
    },
    "id": "I8kpwxXNoPxI",
    "outputId": "39fc041b-4374-430d-a294-0c774e7ee9e0"
   },
   "outputs": [
    {
     "data": {
      "text/plain": [
       "{'title': 'Assignment_1_2022.pdf',\n",
       " 'content': '  \\n \\nNPTEL Online Certification Courses \\nIndian Institute of Technology Kharagpur \\nDeep Learning \\nAssignment- Week 1 \\nTYPE OF QUESTION:  MCQ/MSQ \\nNumber of questions: 10  \\n \\n \\n \\n \\n            Total mark: 10 X 2= 20  \\n______________________________________________________________________________ \\nQUESTION 1: \\nSignature descriptor of an unknown shape is given in the figure, can you identify the unknown \\nshape? \\n \\n \\n \\n \\n \\n \\n \\na. Circle \\nb. Square \\nc. Straight line \\nd. Cannot be predicted  \\nCorrect Answer: a \\nDetailed Solution:  \\nDistance from centroid to boundary is same for every value of ϴ. This is true for Circle \\nwith a radius k. \\n______________________________________________________________________________ \\nQUESTION 2: \\nTo measure the Smoothness, coarseness and regularity of a region we use which of the \\ntransformation to extract feature? \\na. Gabor Transformation \\nb. Wavelet Transformation \\nc. Both Gabor, and Wavelet Transformation.  \\nd. None of the Above.  \\n  \\n \\nNPTEL Online Certification Courses \\nIndian Institute of Technology Kharagpur \\nCorrect Answer: c \\n \\nDetailed Solution: \\nOne of the important approach to region description is texture content. This helps to provide \\nthe measure of some of the important properties of an image like smoothness, coarseness \\nand regularity of the region. We use Gabor filter and Wavelet transformation to extract \\ntexture feature.  \\nQUESTION 3: \\nSuppose Fourier descriptor of a shape has K coefficient, and we remove last few coefficient and \\nuse only first m (m<K) number of coefficient to reconstruct the shape. What will be effect of \\nusing truncated Fourier descriptor on the reconstructed shape? \\na. We will get a smoothed boundary version of the shape.  \\nb. We will get only the fine details of the boundary of the shape.  \\nc. Full shape will be reconstructed without any loss of information.  \\nd. Low frequency component of the boundary will be removed from contour of the \\nshape.  \\nCorrect Answer: a \\nDetailed Solution:  \\nLow frequency component of Fourier descriptor captures the general shape properties of \\nthe object and high frequency component captures the finer detail. So, if we remove the last \\nfew component, then the finer details will be lost, and as a result the reconstructed shape \\nwill be smoothed version of original shape. The boundary of the reconstructed shape will \\nbe a low frequency approximation of the original shape boundary.  \\n______________________________________________________________________________ \\n \\nQUESTION 4: \\nWhile computing polygonal descriptor of an arbitrary shape using splitting technique, which of \\nthe following we take as the starting guess?  \\na. Vertex joining the two closet point above a threshold on the boundary.  \\nb. Vertex joining the two farthest point on the boundary.  \\nc. Vertex joining any two arbitrary point on the boundary.  \\nd. None of the above. \\n  \\n \\nNPTEL Online Certification Courses \\nIndian Institute of Technology Kharagpur \\n \\nCorrect Answer: b \\nDetailed Solution:  \\nOptions are self-explanatory.  \\n_____________________________________________________________________________ \\nQUESTION 5: \\nConsider two class Bayes’ Minimum Risk Classifier. Probability of classes W1 and W2 are, P (ω1) \\n=0.3 and P (ω2) =0.7 respectively. P(x) = 0.545, P (x| ω1) = 0.65, P (x| ω2) =0.5 and the loss \\nmatrix values are            [𝜆11\\n𝜆12\\n𝜆21\\n𝜆22]                    \\nIf the classifier assign x to class W1, then which one of the following is true. \\na. \\n𝜆21−𝜆11\\n𝜆12−𝜆22 < 1.79 \\nb. \\n𝜆21−𝜆11\\n𝜆12−𝜆22 > 1.79 \\nc. \\n𝜆21−𝜆11\\n𝜆12−𝜆22 < 1.09 \\nd. \\n𝜆21−𝜆11\\n𝜆12−𝜆22 > 1.09 \\n \\nCorrect Answer: b \\nDetailed Solution: \\n𝜆21 −𝜆11\\n𝜆12 −𝜆22\\n> 𝑃(𝜔2 𝑥\\n⁄ )\\n𝑃(𝜔1 𝑥\\n⁄ ) \\nNow,  P(ω1/x) = P (ω1)* P (x| ω1) / P(x) = 0.3*0.65 / 0.545 = 0.358 \\nP(ω2/x) = P (ω2)* P (x| ω2) / P(x) = 0.7*0.50 / 0.545 = 0.642 \\n𝜆21 −𝜆11\\n𝜆12 −𝜆22\\n> 1.79 \\n____________________________________________________________________________ \\n  \\n \\nNPTEL Online Certification Courses \\nIndian Institute of Technology Kharagpur \\nQUESTION 6: \\nThe Fourier transformation of a complex sequence of number 𝑠(𝑘) for 𝑘= 0, … , 𝑁−1 is given \\nby: \\na. 𝑎(𝑢) = ∑\\n𝑠(𝑘)𝑒𝑗2𝜋𝑢𝑘/𝑁\\n𝑁−1\\n𝑘=0\\n \\nb. 𝑎(𝑢) = ∑\\n𝑠(𝑘)𝑒𝑗2𝜋𝑢𝑘/𝑁\\n𝑁\\n𝑘=0\\n \\nc. 𝑎(𝑢) = ∑\\n𝑠(𝑘)𝑒−𝑗2𝜋𝑢𝑘/𝑁\\n𝑁−1\\n𝑘=0\\n \\nd. 𝑎(𝑢) = ∑\\n𝑠(𝑘)𝑒−𝑗2𝜋𝑢𝑘/𝑁\\n𝑁2\\n⁄\\n𝑘=−𝑁2\\n⁄\\n \\nCorrect Answer: c \\nDetailed Solution:  \\nOptions are self-explanatory.  \\n_____________________________________________________________________________ \\nQUESTION 7: \\nThe gray co-occurrence matrix C of an unknown image is given in below.  What is the value of \\nmaximum probability descriptor?  \\n \\n \\n \\n \\n \\n \\n \\n \\n \\n \\n \\nFig 1: C \\na. 3/17 \\nb. 1/12 \\nc. 3/16 \\nd. 5/16 \\n1 \\n2 \\n2 \\n2 \\n1 \\n2 \\n2 \\n3 \\n2 \\n  \\n \\nNPTEL Online Certification Courses \\nIndian Institute of Technology Kharagpur \\nCorrect Answer: a \\nDetailed Solution: \\nMaximum probability = max (cij). cij is normalized co-occurrence matrix. Total values in C \\nis 17.  \\n______________________________________________________________________________ \\n \\nQUESTION 8: \\nWhich of the following is not a boundary descriptor. \\na. Polygonal Representation \\nb. Fourier descriptor \\nc. Signature \\nd. Histogram.  \\nCorrect Answer: d \\nDetailed Solution:  \\nHistogram is a region descriptor. \\n______________________________________________________________________________ \\nQUESTION 9: \\n \\nWe use gray co-occurrence matrix to extract which type of information?  \\na. Boundary \\n \\nb. Texture \\n \\nc. MFCC \\n \\nd. Zero Crossing rate.  \\nCorrect Answer: b \\nDetailed Explanation: We use different feature from the gray co-occurrence matrix to \\ndetermine the textural content of an image region.  \\n  \\n \\nNPTEL Online Certification Courses \\nIndian Institute of Technology Kharagpur \\n______________________________________________________________________________ \\n \\nQUESTION 10: \\nIf the larger values of gray co-occurrence matrix are concentrated around the main diagonal, \\nthen which one of the following will be true?  \\ne. The value of element difference moment will be low. \\nf. The value of inverse element difference moment will be low. \\ng. The value of entropy will be very low. \\nh. None of the above. \\nCorrect Answer: a \\nDetailed Solution: \\nOptions are self-explanatory. We can’t comment anything on the entropy based on the \\nvalues of diagonal elements. Because it depends on the randomness of the value.  Whereas \\nelement difference moment will be low and inverse element difference moment will be high.  \\n______________________________________________________________________________ \\n \\n************END*********** \\n'}"
      ]
     },
     "execution_count": 6,
     "metadata": {},
     "output_type": "execute_result"
    }
   ],
   "source": [
    "assignment_data[0]"
   ]
  },
  {
   "cell_type": "code",
   "execution_count": 7,
   "metadata": {
    "id": "jvwyiX7EoSFk"
   },
   "outputs": [],
   "source": [
    "# Extract Lecture Slides content\n",
    "\n",
    "lecture_slides_path = \"/content/drive/MyDrive/Deep Learning/Lecture Slides\"\n",
    "lecture_slides_data = []\n",
    "\n",
    "for files in os.listdir(lecture_slides_path):\n",
    "  pdf_path = os.path.join(lecture_slides_path,files)\n",
    "  text = extract_text_from_pdf(pdf_path)\n",
    "  lecture_slides_data.append({'title': files, 'content': text})\n"
   ]
  },
  {
   "cell_type": "code",
   "execution_count": 8,
   "metadata": {
    "colab": {
     "base_uri": "https://localhost:8080/"
    },
    "id": "pK9RHWWspCt8",
    "outputId": "7baa9069-a0ae-4b28-8151-cd527a27a7dd"
   },
   "outputs": [
    {
     "data": {
      "text/plain": [
       "{'title': 'WEEK 1.pdf',\n",
       " 'content': 'Course Name: Deep Learning \\nFaculty Name: Prof. Prabir Kumar Biswas\\nDepartment : E &  ECE, IIT Kharagpur\\nTopic\\nLecture 01:  Introduction\\nConcepts Covered:\\n\\uf071Deep Learning: An Introduction\\n\\uf071Descriptors/ Feature Vectors\\n\\uf071Machine Learning vs. Deep Learning\\n\\uf071Discriminative/ Generative Model\\n\\uf071Challenges\\n\\uf071Power of Deep Learning\\nWhat is \\nlearning?\\nImage Source: Internet\\nImage Source: Internet\\nCan You Recognize these \\nPictures   ?\\n• If Yes, How do you Recognize it?\\nOrigin of Machine Learning?\\nImage Source: Internet\\n…..Lies in very early efforts of understanding \\nIntelligence.\\n• What is Intelligence?\\n• It can be defined as the ability to comprehend; to \\nunderstand and profit from experience. \\n• Capability to acquire and Apply Knowledge.\\nLearning?\\nImage Source: Internet\\n2300 Years ago….\\n• Plato (427-347 BC )\\n• The concept of Abstract Ideas \\nare known to us a priori, through\\na Mystic connection with world.\\n• He concluded that ability to think \\nis found in a priori knowledge of \\nthe concepts.\\nLearning?\\nImage Source: Internet\\nPlato’s \\nPupil…\\n• Aristotle (384-322 BC)\\n• Criticized his Teacher’s Theory\\nas it is not taking into account \\nthe important aspect \\n--- An ability to Learn or Adapt to changing \\nworld.\\nDescriptors/ Feature \\nVectors\\nImage Source: Internet\\nImage Source: Internet\\nDescriptors/ Feature Vectors\\nImage Source: Internet\\nDescriptors/ Feature Vectors\\nImage Source: Internet\\nDescriptors/ Feature Vectors\\nImage Source: Internet\\nMachine Learning\\nvs\\nDeep Learning\\nImage Source: Internet\\nDiscriminative vs. \\nGenerative Model\\nImage Source: Internet\\nDiscriminative Model\\nImage Source: Internet\\nCat\\nDog\\nP (X)\\nP (Y | X)\\nPredicted\\nLoss\\nError  Backprop\\nCat\\nCat\\nDog\\nDog\\nCat\\nCat\\nCat\\nCat\\nDog\\nDog\\nGenerative Model\\n\\uf071Collect a large amount of data in some domain\\n\\uf071Train a model to generate data like it.\\n“What I can not create, I do not \\nunderstand.”\\n- Richard Feynman\\nChallenge\\ns\\nImage Source: Internet\\nViewing Angle\\nImage Source: Internet\\nPose\\nImage Source: Internet\\nIllumination\\nImage Source: Internet\\nIntraclass Variation\\nImage Source: Internet\\nDistortion and Occlusion\\nImage Source: Internet\\nPower of Deep \\nLearning\\nHigh Resolution Image Synthesis*\\n*Karras, Tero, Timo Aila, Samuli Laine, and Jaakko Lehtinen. \\n\"Progressive growing of gans for improved quality, stability, \\nand variation.\" ICLR, 2018.\\nImage Super resolution*\\n*Ledig et al.. \"Photo-Realistic Single Image Super-Resolution Using \\na Generative Adversarial Network\" CVPR 2016\\nImage to Image Translation*\\n* Isola, Phillip, Jun-Yan Zhu, Tinghui Zhou, and Alexei A. Efros. \\n\"Image-to-image translation with conditional adversarial \\nnetworks.\" CVPR, 2017\\nVideo to Video Translation*\\n*Wang, Ting-Chun, Ming-Yu Liu, Jun-Yan Zhu, Guilin Liu, Andrew \\nTao, Jan Kautz, and Bryan Catanzaro. \"Video-to-video \\nsynthesis.\" NeurIPS, 2018\\nMedical Image Processing\\nCourse Name: Deep Learning \\nFaculty Name:  Prof. Prabir Kumar Biswas\\nDepartment : E & ECE, IIT Kharagpur\\nTopic\\nLecture 02: Feature Vector \\nDescriptors/ Feature Vectors\\nImage Source: Internet\\nDescriptors/ Feature Vectors\\nImage Source: Internet\\nDescriptors/ Feature Vectors\\nImage Source: Internet\\nConcepts Covered: Descriptors/ Features\\n\\uf071Visual Signals\\n\\uf076Boundary Features\\n\\uf076Region Features\\n\\uf071Audio Signals\\nBoundary \\nDescriptors\\nShape Feature/ Polygonal \\nRepresentation\\nSignature\\nFourier Descriptor\\nStatistical Moments\\nRegion Descriptors\\nCourse Name: Deep Learning \\nFaculty Name:  Prof. Prabir Kumar Biswas\\nDepartment : E & ECE, IIT Kharagpur\\nTopic\\nLecture 03: Region Descriptors\\nDescriptors/ Feature Vectors\\nImage Source: Internet\\nDescriptors/ Feature Vectors\\nImage Source: Internet\\nDescriptors/ Feature Vectors\\nImage Source: Internet\\nConcepts Covered: Descriptors/ Features\\n\\uf071Visual Signals\\n\\uf076Boundary Features\\n\\uf076Region Features\\n\\uf071Audio Signals\\nRegion Descriptors\\nIntensity Descriptor\\nImage Source: Internet\\nIntensity Descriptor\\nImage Source: Internet\\nColour Feature\\nImage Source:https://billmill.org/the_histogram.html \\nTexture Descriptors\\nPixel Domain/ Co-occurrence Matrix\\n119\\n115\\n106\\n100\\n98\\n128\\n120\\n140\\n127\\n143\\n139\\n147\\n130\\n150\\n159\\n146\\n131\\n137\\n145\\n120\\n115\\n139\\n125\\n128\\n129\\n108\\n129\\n138\\n138\\n149\\n127\\n99\\n125\\n110\\n136\\n108\\n95\\n142\\n138\\n147\\n100\\n98\\n135\\n122\\n130\\n129\\n99\\n152\\n133\\n132\\n120\\n125\\n135\\n120\\n112\\n110\\n140\\n145\\n100\\n112\\n109\\n115\\n100\\n150\\nPixel Domain/ Co-occurrence Matrix\\n7\\n6\\n12\\n6\\n8\\n8\\n2\\n7\\n9\\n3\\n6\\n11\\n9\\n8\\n3\\n2\\n6\\n7\\n0\\n6\\n1\\n7\\n4\\n8\\n2\\n8\\n9\\n10\\n8\\n11\\n0\\n2\\n1\\n6\\n5\\n7\\n3\\n4\\n2\\n8\\n5\\n4\\n8\\n6\\n10\\n2\\n3\\n9\\n2\\n3\\n6\\n4\\n12\\n15\\n5\\n6\\n9\\n11\\n8\\n5\\n9\\n7\\n9\\n10\\nCo-occurrence matrix based descriptors\\nMaximum Probability\\nElement Difference Moment\\nInverse Element Difference Moment\\nUniformity\\nEntropy\\n)\\nmax(\\n,\\nijc\\nj\\ni\\n∑∑\\n−\\ni\\nj\\nj\\ni\\nkC\\nj\\ni\\n,\\n)\\n(\\n∑∑\\n≠\\n−\\ni\\nj\\nk\\nj\\ni\\nj\\ni\\nj\\ni\\nC\\n)\\n(\\n,\\n∑∑\\ni\\ni\\nij\\nC 2\\n∑∑\\n−\\ni\\nj\\nij\\nij\\nC\\nc\\n2\\nlog\\nAudio\\nTime Domain Feature - LPC\\nSpectral Domain- MFCC\\nTraditional Machine Learning vs. Deep \\nLearning\\nCourse Name: Deep Learning \\nFaculty Name: Prof. P. K. Biswas\\nDepartment : Electronics and Electrical Communication Engineering \\nTopic\\nLecture 04: Bayesian Learning \\nConcepts Covered:\\n\\uf071Feature Space Representation\\n\\uf071Bayes Rule\\n\\uf071Bayes Minimum Error Classifier\\n\\uf071Bayes Minimum Risk Classifier\\nFeature Space Representation\\nX1\\nX2\\nImage Source: Internet\\nFeature Space Representation\\nX1\\nX2\\nFeature Space Representation\\nImage Source: Internet\\n1\\nX\\n2\\nX\\n)\\n/\\n(\\ni\\nX\\np\\nω\\nBayesian Learning\\nCourse Name: Deep Learning \\nFaculty Name: Prof. P. K. Biswas\\nDepartment : Electronics and Electrical Communication Engineering \\nTopic\\nLecture 05: Bayes Minimum Risk Classifier \\nConcepts Covered:\\n\\uf071Feature Space Representation\\n\\uf071Bayes Rule\\n\\uf071Bayes Minimum Error Classifier\\n\\uf071Bayes Minimum Risk Classifier\\nFeature Space Representation\\nX1\\nX2\\nImage Source: Internet\\nFeature Distribution\\nImage Source: Internet\\n1\\nX\\n2\\nX\\n)\\n/\\n(\\ni\\nX\\np\\nω\\nBayes Minimum Error Classification\\nBayes Minimum Risk Classification\\n'}"
      ]
     },
     "execution_count": 8,
     "metadata": {},
     "output_type": "execute_result"
    }
   ],
   "source": [
    "lecture_slides_data[0]"
   ]
  },
  {
   "cell_type": "code",
   "execution_count": 9,
   "metadata": {
    "id": "FZsuBCrdpdTU"
   },
   "outputs": [],
   "source": [
    "# Extract content from Lecture Transcripts\n",
    "\n",
    "def extract_text_from_book(pdf_path,start,end):\n",
    "  pdf = fitz.open(pdf_path)\n",
    "  text = \"\"\n",
    "  for page_num in range(start-1,end):\n",
    "    text += pdf[page_num].get_text()\n",
    "  return text"
   ]
  },
  {
   "cell_type": "code",
   "execution_count": 10,
   "metadata": {
    "id": "GMke69jdpIBH"
   },
   "outputs": [],
   "source": [
    "lecture_transcripts_path = \"/content/drive/MyDrive/Deep Learning/Lecture Transcripts.pdf\"\n",
    "lecture_transcripts_data = extract_text_from_book(lecture_transcripts_path,5,920)"
   ]
  },
  {
   "cell_type": "code",
   "execution_count": 11,
   "metadata": {
    "colab": {
     "base_uri": "https://localhost:8080/",
     "height": 88
    },
    "id": "px_9g6CEqNwt",
    "outputId": "d9cd62b2-d620-4c5c-9abc-9d84be14d966"
   },
   "outputs": [
    {
     "data": {
      "application/vnd.google.colaboratory.intrinsic+json": {
       "type": "string"
      },
      "text/plain": [
       "'Deep Learning\\nProf. Prabir Kumar Biswas\\nDepartment of Electronics And Electrical Communication Engineering\\nIndian Institute of Technology, Kharagpur\\nLecture – 01\\nIntroduction\\nHello. Welcome to the NPTEL certification course on Deep Learning. So, in today we are\\ngoing to introduce the content of this course and we are going to talk about that what all we\\nwill be covering in this lecture series on Deep Learning.\\n(Refer Slide Time: 00:49)\\nSo, the topics that I will covered is; obviously, the first '"
      ]
     },
     "execution_count": 11,
     "metadata": {},
     "output_type": "execute_result"
    }
   ],
   "source": [
    "# Extract first 500 characters\n",
    "\n",
    "lecture_transcripts_data[:500]"
   ]
  },
  {
   "cell_type": "markdown",
   "metadata": {
    "id": "zh1S0UU9rpr-"
   },
   "source": [
    "# Step 3: Combine all the data and Chunk them  "
   ]
  },
  {
   "cell_type": "code",
   "execution_count": 12,
   "metadata": {
    "id": "uq-iKjKFqfMO"
   },
   "outputs": [],
   "source": [
    "#Combine the data\n",
    "all_data = []\n",
    "\n",
    "for data in assignment_data:\n",
    "  all_data.append({'type':'assignments','title': data['title'], 'content': data['content']})\n",
    "\n",
    "for data in lecture_slides_data:\n",
    "  all_data.append({'type':'Lecture Slides','title': data['title'], 'content': data['content']})\n",
    "\n",
    "all_data.append({'type':'Lecture Transcripts','title':'Lecture Transcripts','content': lecture_transcripts_data})"
   ]
  },
  {
   "cell_type": "code",
   "execution_count": 13,
   "metadata": {
    "colab": {
     "base_uri": "https://localhost:8080/"
    },
    "id": "FXo9CDefr5Gs",
    "outputId": "3038f0b6-91ae-4616-b37c-a93aecce93f2"
   },
   "outputs": [
    {
     "data": {
      "text/plain": [
       "{'type': 'assignments',\n",
       " 'title': 'Assignment_1_2022.pdf',\n",
       " 'content': '  \\n \\nNPTEL Online Certification Courses \\nIndian Institute of Technology Kharagpur \\nDeep Learning \\nAssignment- Week 1 \\nTYPE OF QUESTION:  MCQ/MSQ \\nNumber of questions: 10  \\n \\n \\n \\n \\n            Total mark: 10 X 2= 20  \\n______________________________________________________________________________ \\nQUESTION 1: \\nSignature descriptor of an unknown shape is given in the figure, can you identify the unknown \\nshape? \\n \\n \\n \\n \\n \\n \\n \\na. Circle \\nb. Square \\nc. Straight line \\nd. Cannot be predicted  \\nCorrect Answer: a \\nDetailed Solution:  \\nDistance from centroid to boundary is same for every value of ϴ. This is true for Circle \\nwith a radius k. \\n______________________________________________________________________________ \\nQUESTION 2: \\nTo measure the Smoothness, coarseness and regularity of a region we use which of the \\ntransformation to extract feature? \\na. Gabor Transformation \\nb. Wavelet Transformation \\nc. Both Gabor, and Wavelet Transformation.  \\nd. None of the Above.  \\n  \\n \\nNPTEL Online Certification Courses \\nIndian Institute of Technology Kharagpur \\nCorrect Answer: c \\n \\nDetailed Solution: \\nOne of the important approach to region description is texture content. This helps to provide \\nthe measure of some of the important properties of an image like smoothness, coarseness \\nand regularity of the region. We use Gabor filter and Wavelet transformation to extract \\ntexture feature.  \\nQUESTION 3: \\nSuppose Fourier descriptor of a shape has K coefficient, and we remove last few coefficient and \\nuse only first m (m<K) number of coefficient to reconstruct the shape. What will be effect of \\nusing truncated Fourier descriptor on the reconstructed shape? \\na. We will get a smoothed boundary version of the shape.  \\nb. We will get only the fine details of the boundary of the shape.  \\nc. Full shape will be reconstructed without any loss of information.  \\nd. Low frequency component of the boundary will be removed from contour of the \\nshape.  \\nCorrect Answer: a \\nDetailed Solution:  \\nLow frequency component of Fourier descriptor captures the general shape properties of \\nthe object and high frequency component captures the finer detail. So, if we remove the last \\nfew component, then the finer details will be lost, and as a result the reconstructed shape \\nwill be smoothed version of original shape. The boundary of the reconstructed shape will \\nbe a low frequency approximation of the original shape boundary.  \\n______________________________________________________________________________ \\n \\nQUESTION 4: \\nWhile computing polygonal descriptor of an arbitrary shape using splitting technique, which of \\nthe following we take as the starting guess?  \\na. Vertex joining the two closet point above a threshold on the boundary.  \\nb. Vertex joining the two farthest point on the boundary.  \\nc. Vertex joining any two arbitrary point on the boundary.  \\nd. None of the above. \\n  \\n \\nNPTEL Online Certification Courses \\nIndian Institute of Technology Kharagpur \\n \\nCorrect Answer: b \\nDetailed Solution:  \\nOptions are self-explanatory.  \\n_____________________________________________________________________________ \\nQUESTION 5: \\nConsider two class Bayes’ Minimum Risk Classifier. Probability of classes W1 and W2 are, P (ω1) \\n=0.3 and P (ω2) =0.7 respectively. P(x) = 0.545, P (x| ω1) = 0.65, P (x| ω2) =0.5 and the loss \\nmatrix values are            [𝜆11\\n𝜆12\\n𝜆21\\n𝜆22]                    \\nIf the classifier assign x to class W1, then which one of the following is true. \\na. \\n𝜆21−𝜆11\\n𝜆12−𝜆22 < 1.79 \\nb. \\n𝜆21−𝜆11\\n𝜆12−𝜆22 > 1.79 \\nc. \\n𝜆21−𝜆11\\n𝜆12−𝜆22 < 1.09 \\nd. \\n𝜆21−𝜆11\\n𝜆12−𝜆22 > 1.09 \\n \\nCorrect Answer: b \\nDetailed Solution: \\n𝜆21 −𝜆11\\n𝜆12 −𝜆22\\n> 𝑃(𝜔2 𝑥\\n⁄ )\\n𝑃(𝜔1 𝑥\\n⁄ ) \\nNow,  P(ω1/x) = P (ω1)* P (x| ω1) / P(x) = 0.3*0.65 / 0.545 = 0.358 \\nP(ω2/x) = P (ω2)* P (x| ω2) / P(x) = 0.7*0.50 / 0.545 = 0.642 \\n𝜆21 −𝜆11\\n𝜆12 −𝜆22\\n> 1.79 \\n____________________________________________________________________________ \\n  \\n \\nNPTEL Online Certification Courses \\nIndian Institute of Technology Kharagpur \\nQUESTION 6: \\nThe Fourier transformation of a complex sequence of number 𝑠(𝑘) for 𝑘= 0, … , 𝑁−1 is given \\nby: \\na. 𝑎(𝑢) = ∑\\n𝑠(𝑘)𝑒𝑗2𝜋𝑢𝑘/𝑁\\n𝑁−1\\n𝑘=0\\n \\nb. 𝑎(𝑢) = ∑\\n𝑠(𝑘)𝑒𝑗2𝜋𝑢𝑘/𝑁\\n𝑁\\n𝑘=0\\n \\nc. 𝑎(𝑢) = ∑\\n𝑠(𝑘)𝑒−𝑗2𝜋𝑢𝑘/𝑁\\n𝑁−1\\n𝑘=0\\n \\nd. 𝑎(𝑢) = ∑\\n𝑠(𝑘)𝑒−𝑗2𝜋𝑢𝑘/𝑁\\n𝑁2\\n⁄\\n𝑘=−𝑁2\\n⁄\\n \\nCorrect Answer: c \\nDetailed Solution:  \\nOptions are self-explanatory.  \\n_____________________________________________________________________________ \\nQUESTION 7: \\nThe gray co-occurrence matrix C of an unknown image is given in below.  What is the value of \\nmaximum probability descriptor?  \\n \\n \\n \\n \\n \\n \\n \\n \\n \\n \\n \\nFig 1: C \\na. 3/17 \\nb. 1/12 \\nc. 3/16 \\nd. 5/16 \\n1 \\n2 \\n2 \\n2 \\n1 \\n2 \\n2 \\n3 \\n2 \\n  \\n \\nNPTEL Online Certification Courses \\nIndian Institute of Technology Kharagpur \\nCorrect Answer: a \\nDetailed Solution: \\nMaximum probability = max (cij). cij is normalized co-occurrence matrix. Total values in C \\nis 17.  \\n______________________________________________________________________________ \\n \\nQUESTION 8: \\nWhich of the following is not a boundary descriptor. \\na. Polygonal Representation \\nb. Fourier descriptor \\nc. Signature \\nd. Histogram.  \\nCorrect Answer: d \\nDetailed Solution:  \\nHistogram is a region descriptor. \\n______________________________________________________________________________ \\nQUESTION 9: \\n \\nWe use gray co-occurrence matrix to extract which type of information?  \\na. Boundary \\n \\nb. Texture \\n \\nc. MFCC \\n \\nd. Zero Crossing rate.  \\nCorrect Answer: b \\nDetailed Explanation: We use different feature from the gray co-occurrence matrix to \\ndetermine the textural content of an image region.  \\n  \\n \\nNPTEL Online Certification Courses \\nIndian Institute of Technology Kharagpur \\n______________________________________________________________________________ \\n \\nQUESTION 10: \\nIf the larger values of gray co-occurrence matrix are concentrated around the main diagonal, \\nthen which one of the following will be true?  \\ne. The value of element difference moment will be low. \\nf. The value of inverse element difference moment will be low. \\ng. The value of entropy will be very low. \\nh. None of the above. \\nCorrect Answer: a \\nDetailed Solution: \\nOptions are self-explanatory. We can’t comment anything on the entropy based on the \\nvalues of diagonal elements. Because it depends on the randomness of the value.  Whereas \\nelement difference moment will be low and inverse element difference moment will be high.  \\n______________________________________________________________________________ \\n \\n************END*********** \\n'}"
      ]
     },
     "execution_count": 13,
     "metadata": {},
     "output_type": "execute_result"
    }
   ],
   "source": [
    "all_data[0]"
   ]
  },
  {
   "cell_type": "code",
   "execution_count": 14,
   "metadata": {
    "colab": {
     "base_uri": "https://localhost:8080/"
    },
    "id": "lKCc47MCtrTm",
    "outputId": "db687e74-0825-4a40-bc66-4835782d474c"
   },
   "outputs": [
    {
     "name": "stdout",
     "output_type": "stream",
     "text": [
      "Requirement already satisfied: langchain in /usr/local/lib/python3.11/dist-packages (0.3.25)\n",
      "Requirement already satisfied: langchain-core<1.0.0,>=0.3.58 in /usr/local/lib/python3.11/dist-packages (from langchain) (0.3.63)\n",
      "Requirement already satisfied: langchain-text-splitters<1.0.0,>=0.3.8 in /usr/local/lib/python3.11/dist-packages (from langchain) (0.3.8)\n",
      "Requirement already satisfied: langsmith<0.4,>=0.1.17 in /usr/local/lib/python3.11/dist-packages (from langchain) (0.3.43)\n",
      "Requirement already satisfied: pydantic<3.0.0,>=2.7.4 in /usr/local/lib/python3.11/dist-packages (from langchain) (2.11.5)\n",
      "Requirement already satisfied: SQLAlchemy<3,>=1.4 in /usr/local/lib/python3.11/dist-packages (from langchain) (2.0.41)\n",
      "Requirement already satisfied: requests<3,>=2 in /usr/local/lib/python3.11/dist-packages (from langchain) (2.32.3)\n",
      "Requirement already satisfied: PyYAML>=5.3 in /usr/local/lib/python3.11/dist-packages (from langchain) (6.0.2)\n",
      "Requirement already satisfied: tenacity!=8.4.0,<10.0.0,>=8.1.0 in /usr/local/lib/python3.11/dist-packages (from langchain-core<1.0.0,>=0.3.58->langchain) (9.1.2)\n",
      "Requirement already satisfied: jsonpatch<2.0,>=1.33 in /usr/local/lib/python3.11/dist-packages (from langchain-core<1.0.0,>=0.3.58->langchain) (1.33)\n",
      "Requirement already satisfied: packaging<25,>=23.2 in /usr/local/lib/python3.11/dist-packages (from langchain-core<1.0.0,>=0.3.58->langchain) (24.2)\n",
      "Requirement already satisfied: typing-extensions>=4.7 in /usr/local/lib/python3.11/dist-packages (from langchain-core<1.0.0,>=0.3.58->langchain) (4.13.2)\n",
      "Requirement already satisfied: httpx<1,>=0.23.0 in /usr/local/lib/python3.11/dist-packages (from langsmith<0.4,>=0.1.17->langchain) (0.28.1)\n",
      "Requirement already satisfied: orjson<4.0.0,>=3.9.14 in /usr/local/lib/python3.11/dist-packages (from langsmith<0.4,>=0.1.17->langchain) (3.10.18)\n",
      "Requirement already satisfied: requests-toolbelt<2.0.0,>=1.0.0 in /usr/local/lib/python3.11/dist-packages (from langsmith<0.4,>=0.1.17->langchain) (1.0.0)\n",
      "Requirement already satisfied: zstandard<0.24.0,>=0.23.0 in /usr/local/lib/python3.11/dist-packages (from langsmith<0.4,>=0.1.17->langchain) (0.23.0)\n",
      "Requirement already satisfied: annotated-types>=0.6.0 in /usr/local/lib/python3.11/dist-packages (from pydantic<3.0.0,>=2.7.4->langchain) (0.7.0)\n",
      "Requirement already satisfied: pydantic-core==2.33.2 in /usr/local/lib/python3.11/dist-packages (from pydantic<3.0.0,>=2.7.4->langchain) (2.33.2)\n",
      "Requirement already satisfied: typing-inspection>=0.4.0 in /usr/local/lib/python3.11/dist-packages (from pydantic<3.0.0,>=2.7.4->langchain) (0.4.1)\n",
      "Requirement already satisfied: charset-normalizer<4,>=2 in /usr/local/lib/python3.11/dist-packages (from requests<3,>=2->langchain) (3.4.2)\n",
      "Requirement already satisfied: idna<4,>=2.5 in /usr/local/lib/python3.11/dist-packages (from requests<3,>=2->langchain) (3.10)\n",
      "Requirement already satisfied: urllib3<3,>=1.21.1 in /usr/local/lib/python3.11/dist-packages (from requests<3,>=2->langchain) (2.4.0)\n",
      "Requirement already satisfied: certifi>=2017.4.17 in /usr/local/lib/python3.11/dist-packages (from requests<3,>=2->langchain) (2025.4.26)\n",
      "Requirement already satisfied: greenlet>=1 in /usr/local/lib/python3.11/dist-packages (from SQLAlchemy<3,>=1.4->langchain) (3.2.2)\n",
      "Requirement already satisfied: anyio in /usr/local/lib/python3.11/dist-packages (from httpx<1,>=0.23.0->langsmith<0.4,>=0.1.17->langchain) (4.9.0)\n",
      "Requirement already satisfied: httpcore==1.* in /usr/local/lib/python3.11/dist-packages (from httpx<1,>=0.23.0->langsmith<0.4,>=0.1.17->langchain) (1.0.9)\n",
      "Requirement already satisfied: h11>=0.16 in /usr/local/lib/python3.11/dist-packages (from httpcore==1.*->httpx<1,>=0.23.0->langsmith<0.4,>=0.1.17->langchain) (0.16.0)\n",
      "Requirement already satisfied: jsonpointer>=1.9 in /usr/local/lib/python3.11/dist-packages (from jsonpatch<2.0,>=1.33->langchain-core<1.0.0,>=0.3.58->langchain) (3.0.0)\n",
      "Requirement already satisfied: sniffio>=1.1 in /usr/local/lib/python3.11/dist-packages (from anyio->httpx<1,>=0.23.0->langsmith<0.4,>=0.1.17->langchain) (1.3.1)\n"
     ]
    }
   ],
   "source": [
    "# Install langchain, ensuring a successful installation\n",
    "!pip install langchain"
   ]
  },
  {
   "cell_type": "code",
   "execution_count": 15,
   "metadata": {
    "id": "nZRvZvGBsFOu"
   },
   "outputs": [],
   "source": [
    "# Import the necessary class from the text_splitters submodule\n",
    "from langchain.text_splitter import RecursiveCharacterTextSplitter\n",
    "\n",
    "# Initialize the splitter\n",
    "splitter = RecursiveCharacterTextSplitter(chunk_size = 500, chunk_overlap = 50)\n",
    "\n",
    "# Chunk_size - it is the size of the chunk\n",
    "# Chunk_overlap - it is the number of characters from previous chunk that has\n",
    "# to be added into the current chunk to maintain context and continuity in the\n",
    "# data"
   ]
  },
  {
   "cell_type": "code",
   "execution_count": 16,
   "metadata": {
    "id": "dIkB1bjKuJGF"
   },
   "outputs": [],
   "source": [
    "chunks = []\n",
    "\n",
    "for doc in all_data:\n",
    "  chunk = splitter.split_text(doc['content'])\n",
    "\n",
    "  for i in range(len(chunk)):\n",
    "    chunks.append({\n",
    "        'type':doc['type'],\n",
    "        'title':doc['title'],\n",
    "        'content':chunk[i]\n",
    "    })"
   ]
  },
  {
   "cell_type": "code",
   "execution_count": 17,
   "metadata": {
    "colab": {
     "base_uri": "https://localhost:8080/"
    },
    "id": "s-oigSQlutRO",
    "outputId": "d72d0e79-e09b-4d40-dc02-8308307ad9a1"
   },
   "outputs": [
    {
     "data": {
      "text/plain": [
       "{'type': 'assignments',\n",
       " 'title': 'Assignment_1_2022.pdf',\n",
       " 'content': 'NPTEL Online Certification Courses \\nIndian Institute of Technology Kharagpur \\nDeep Learning \\nAssignment- Week 1 \\nTYPE OF QUESTION:  MCQ/MSQ \\nNumber of questions: 10  \\n \\n \\n \\n \\n            Total mark: 10 X 2= 20  \\n______________________________________________________________________________ \\nQUESTION 1: \\nSignature descriptor of an unknown shape is given in the figure, can you identify the unknown \\nshape? \\n \\n \\n \\n \\n \\n \\n \\na. Circle \\nb. Square \\nc. Straight line \\nd. Cannot be predicted'}"
      ]
     },
     "execution_count": 17,
     "metadata": {},
     "output_type": "execute_result"
    }
   ],
   "source": [
    "chunks[0]"
   ]
  },
  {
   "cell_type": "markdown",
   "metadata": {
    "id": "3SKmI3Vj_RsR"
   },
   "source": [
    "# Step 4: Generate Embeddings and store them in a database"
   ]
  },
  {
   "cell_type": "code",
   "execution_count": 18,
   "metadata": {
    "colab": {
     "base_uri": "https://localhost:8080/"
    },
    "id": "zUq48yFyAPtD",
    "outputId": "d00eed66-9e30-4e62-dd7a-eac5fd9c01bd"
   },
   "outputs": [
    {
     "name": "stdout",
     "output_type": "stream",
     "text": [
      "Requirement already satisfied: langchain-community in /usr/local/lib/python3.11/dist-packages (0.3.24)\n",
      "Requirement already satisfied: langchain-core<1.0.0,>=0.3.59 in /usr/local/lib/python3.11/dist-packages (from langchain-community) (0.3.63)\n",
      "Requirement already satisfied: langchain<1.0.0,>=0.3.25 in /usr/local/lib/python3.11/dist-packages (from langchain-community) (0.3.25)\n",
      "Requirement already satisfied: SQLAlchemy<3,>=1.4 in /usr/local/lib/python3.11/dist-packages (from langchain-community) (2.0.41)\n",
      "Requirement already satisfied: requests<3,>=2 in /usr/local/lib/python3.11/dist-packages (from langchain-community) (2.32.3)\n",
      "Requirement already satisfied: PyYAML>=5.3 in /usr/local/lib/python3.11/dist-packages (from langchain-community) (6.0.2)\n",
      "Requirement already satisfied: aiohttp<4.0.0,>=3.8.3 in /usr/local/lib/python3.11/dist-packages (from langchain-community) (3.11.15)\n",
      "Requirement already satisfied: tenacity!=8.4.0,<10,>=8.1.0 in /usr/local/lib/python3.11/dist-packages (from langchain-community) (9.1.2)\n",
      "Requirement already satisfied: dataclasses-json<0.7,>=0.5.7 in /usr/local/lib/python3.11/dist-packages (from langchain-community) (0.6.7)\n",
      "Requirement already satisfied: pydantic-settings<3.0.0,>=2.4.0 in /usr/local/lib/python3.11/dist-packages (from langchain-community) (2.9.1)\n",
      "Requirement already satisfied: langsmith<0.4,>=0.1.125 in /usr/local/lib/python3.11/dist-packages (from langchain-community) (0.3.43)\n",
      "Requirement already satisfied: httpx-sse<1.0.0,>=0.4.0 in /usr/local/lib/python3.11/dist-packages (from langchain-community) (0.4.0)\n",
      "Requirement already satisfied: numpy>=1.26.2 in /usr/local/lib/python3.11/dist-packages (from langchain-community) (2.0.2)\n",
      "Requirement already satisfied: aiohappyeyeballs>=2.3.0 in /usr/local/lib/python3.11/dist-packages (from aiohttp<4.0.0,>=3.8.3->langchain-community) (2.6.1)\n",
      "Requirement already satisfied: aiosignal>=1.1.2 in /usr/local/lib/python3.11/dist-packages (from aiohttp<4.0.0,>=3.8.3->langchain-community) (1.3.2)\n",
      "Requirement already satisfied: attrs>=17.3.0 in /usr/local/lib/python3.11/dist-packages (from aiohttp<4.0.0,>=3.8.3->langchain-community) (25.3.0)\n",
      "Requirement already satisfied: frozenlist>=1.1.1 in /usr/local/lib/python3.11/dist-packages (from aiohttp<4.0.0,>=3.8.3->langchain-community) (1.6.0)\n",
      "Requirement already satisfied: multidict<7.0,>=4.5 in /usr/local/lib/python3.11/dist-packages (from aiohttp<4.0.0,>=3.8.3->langchain-community) (6.4.4)\n",
      "Requirement already satisfied: propcache>=0.2.0 in /usr/local/lib/python3.11/dist-packages (from aiohttp<4.0.0,>=3.8.3->langchain-community) (0.3.1)\n",
      "Requirement already satisfied: yarl<2.0,>=1.17.0 in /usr/local/lib/python3.11/dist-packages (from aiohttp<4.0.0,>=3.8.3->langchain-community) (1.20.0)\n",
      "Requirement already satisfied: marshmallow<4.0.0,>=3.18.0 in /usr/local/lib/python3.11/dist-packages (from dataclasses-json<0.7,>=0.5.7->langchain-community) (3.26.1)\n",
      "Requirement already satisfied: typing-inspect<1,>=0.4.0 in /usr/local/lib/python3.11/dist-packages (from dataclasses-json<0.7,>=0.5.7->langchain-community) (0.9.0)\n",
      "Requirement already satisfied: langchain-text-splitters<1.0.0,>=0.3.8 in /usr/local/lib/python3.11/dist-packages (from langchain<1.0.0,>=0.3.25->langchain-community) (0.3.8)\n",
      "Requirement already satisfied: pydantic<3.0.0,>=2.7.4 in /usr/local/lib/python3.11/dist-packages (from langchain<1.0.0,>=0.3.25->langchain-community) (2.11.5)\n",
      "Requirement already satisfied: jsonpatch<2.0,>=1.33 in /usr/local/lib/python3.11/dist-packages (from langchain-core<1.0.0,>=0.3.59->langchain-community) (1.33)\n",
      "Requirement already satisfied: packaging<25,>=23.2 in /usr/local/lib/python3.11/dist-packages (from langchain-core<1.0.0,>=0.3.59->langchain-community) (24.2)\n",
      "Requirement already satisfied: typing-extensions>=4.7 in /usr/local/lib/python3.11/dist-packages (from langchain-core<1.0.0,>=0.3.59->langchain-community) (4.13.2)\n",
      "Requirement already satisfied: httpx<1,>=0.23.0 in /usr/local/lib/python3.11/dist-packages (from langsmith<0.4,>=0.1.125->langchain-community) (0.28.1)\n",
      "Requirement already satisfied: orjson<4.0.0,>=3.9.14 in /usr/local/lib/python3.11/dist-packages (from langsmith<0.4,>=0.1.125->langchain-community) (3.10.18)\n",
      "Requirement already satisfied: requests-toolbelt<2.0.0,>=1.0.0 in /usr/local/lib/python3.11/dist-packages (from langsmith<0.4,>=0.1.125->langchain-community) (1.0.0)\n",
      "Requirement already satisfied: zstandard<0.24.0,>=0.23.0 in /usr/local/lib/python3.11/dist-packages (from langsmith<0.4,>=0.1.125->langchain-community) (0.23.0)\n",
      "Requirement already satisfied: python-dotenv>=0.21.0 in /usr/local/lib/python3.11/dist-packages (from pydantic-settings<3.0.0,>=2.4.0->langchain-community) (1.1.0)\n",
      "Requirement already satisfied: typing-inspection>=0.4.0 in /usr/local/lib/python3.11/dist-packages (from pydantic-settings<3.0.0,>=2.4.0->langchain-community) (0.4.1)\n",
      "Requirement already satisfied: charset-normalizer<4,>=2 in /usr/local/lib/python3.11/dist-packages (from requests<3,>=2->langchain-community) (3.4.2)\n",
      "Requirement already satisfied: idna<4,>=2.5 in /usr/local/lib/python3.11/dist-packages (from requests<3,>=2->langchain-community) (3.10)\n",
      "Requirement already satisfied: urllib3<3,>=1.21.1 in /usr/local/lib/python3.11/dist-packages (from requests<3,>=2->langchain-community) (2.4.0)\n",
      "Requirement already satisfied: certifi>=2017.4.17 in /usr/local/lib/python3.11/dist-packages (from requests<3,>=2->langchain-community) (2025.4.26)\n",
      "Requirement already satisfied: greenlet>=1 in /usr/local/lib/python3.11/dist-packages (from SQLAlchemy<3,>=1.4->langchain-community) (3.2.2)\n",
      "Requirement already satisfied: anyio in /usr/local/lib/python3.11/dist-packages (from httpx<1,>=0.23.0->langsmith<0.4,>=0.1.125->langchain-community) (4.9.0)\n",
      "Requirement already satisfied: httpcore==1.* in /usr/local/lib/python3.11/dist-packages (from httpx<1,>=0.23.0->langsmith<0.4,>=0.1.125->langchain-community) (1.0.9)\n",
      "Requirement already satisfied: h11>=0.16 in /usr/local/lib/python3.11/dist-packages (from httpcore==1.*->httpx<1,>=0.23.0->langsmith<0.4,>=0.1.125->langchain-community) (0.16.0)\n",
      "Requirement already satisfied: jsonpointer>=1.9 in /usr/local/lib/python3.11/dist-packages (from jsonpatch<2.0,>=1.33->langchain-core<1.0.0,>=0.3.59->langchain-community) (3.0.0)\n",
      "Requirement already satisfied: annotated-types>=0.6.0 in /usr/local/lib/python3.11/dist-packages (from pydantic<3.0.0,>=2.7.4->langchain<1.0.0,>=0.3.25->langchain-community) (0.7.0)\n",
      "Requirement already satisfied: pydantic-core==2.33.2 in /usr/local/lib/python3.11/dist-packages (from pydantic<3.0.0,>=2.7.4->langchain<1.0.0,>=0.3.25->langchain-community) (2.33.2)\n",
      "Requirement already satisfied: mypy-extensions>=0.3.0 in /usr/local/lib/python3.11/dist-packages (from typing-inspect<1,>=0.4.0->dataclasses-json<0.7,>=0.5.7->langchain-community) (1.1.0)\n",
      "Requirement already satisfied: sniffio>=1.1 in /usr/local/lib/python3.11/dist-packages (from anyio->httpx<1,>=0.23.0->langsmith<0.4,>=0.1.125->langchain-community) (1.3.1)\n"
     ]
    }
   ],
   "source": [
    "# Install the community package for Langchain,\n",
    "# which contains the SentenceTransformerEmbeddings\n",
    "!pip install -U langchain-community"
   ]
  },
  {
   "cell_type": "code",
   "execution_count": 19,
   "metadata": {
    "colab": {
     "base_uri": "https://localhost:8080/"
    },
    "id": "1xhu-1fgu0Ot",
    "outputId": "8b155074-7535-4159-f1ff-f48730052f8d"
   },
   "outputs": [
    {
     "name": "stderr",
     "output_type": "stream",
     "text": [
      "<ipython-input-19-fc1d3ff3049e>:3: LangChainDeprecationWarning: The class `HuggingFaceEmbeddings` was deprecated in LangChain 0.2.2 and will be removed in 1.0. An updated version of the class exists in the :class:`~langchain-huggingface package and should be used instead. To use it run `pip install -U :class:`~langchain-huggingface` and import as `from :class:`~langchain_huggingface import HuggingFaceEmbeddings``.\n",
      "  embedder = SentenceTransformerEmbeddings(model_name = \"all-MiniLM-L6-v2\")\n",
      "/usr/local/lib/python3.11/dist-packages/huggingface_hub/utils/_auth.py:94: UserWarning: \n",
      "The secret `HF_TOKEN` does not exist in your Colab secrets.\n",
      "To authenticate with the Hugging Face Hub, create a token in your settings tab (https://huggingface.co/settings/tokens), set it as secret in your Google Colab and restart your session.\n",
      "You will be able to reuse this secret in all of your notebooks.\n",
      "Please note that authentication is recommended but still optional to access public models or datasets.\n",
      "  warnings.warn(\n"
     ]
    }
   ],
   "source": [
    "from langchain.embeddings import SentenceTransformerEmbeddings\n",
    "# Initialise the embedder model\n",
    "embedder = SentenceTransformerEmbeddings(model_name = \"all-MiniLM-L6-v2\")\n",
    "\n",
    "# Generates embeddings of size 384 dimensions\n",
    "# Lightweight model known for speed and accuracy"
   ]
  },
  {
   "cell_type": "code",
   "execution_count": 20,
   "metadata": {
    "id": "MPAoEmxu_Yf5"
   },
   "outputs": [],
   "source": [
    "embeddings = [embedder.embed_query(chunk['content']) for chunk in chunks]"
   ]
  },
  {
   "cell_type": "code",
   "execution_count": 21,
   "metadata": {
    "colab": {
     "base_uri": "https://localhost:8080/"
    },
    "id": "JJKWGbTyBEbF",
    "outputId": "7f5bc92e-918b-4acb-ae47-6bad44894810"
   },
   "outputs": [
    {
     "data": {
      "text/plain": [
       "[-0.056526072323322296,\n",
       " 0.0377962701022625,\n",
       " -0.021692384034395218,\n",
       " -0.050129108130931854,\n",
       " -0.057667382061481476,\n",
       " -0.040188979357481,\n",
       " -0.013110242784023285,\n",
       " 0.06838851422071457,\n",
       " -0.055620260536670685,\n",
       " -0.0633893609046936,\n",
       " 0.0020593483932316303,\n",
       " -0.07261589914560318,\n",
       " 0.05651377514004707,\n",
       " 0.021594932302832603,\n",
       " -0.05338096246123314,\n",
       " -0.03354936093091965,\n",
       " -0.051579877734184265,\n",
       " 0.020002983510494232,\n",
       " -0.02720060385763645,\n",
       " 0.034808773547410965,\n",
       " 0.04330300912261009,\n",
       " 0.003262357320636511,\n",
       " -0.009122271090745926,\n",
       " 0.013676169328391552,\n",
       " 0.03857679292559624,\n",
       " 0.02318454161286354,\n",
       " 0.1410757452249527,\n",
       " -0.024883223697543144,\n",
       " -0.020535718649625778,\n",
       " -0.09442716091871262,\n",
       " -0.028317080810666084,\n",
       " 0.018512891605496407,\n",
       " -0.053184717893600464,\n",
       " 0.03569025546312332,\n",
       " 0.0547134131193161,\n",
       " -0.05006833001971245,\n",
       " -0.07479299604892731,\n",
       " 0.11749596148729324,\n",
       " 0.07243301719427109,\n",
       " -0.07464410364627838,\n",
       " 0.019983438774943352,\n",
       " -0.021374864503741264,\n",
       " 0.1021139919757843,\n",
       " 0.012528718449175358,\n",
       " 0.0694197565317154,\n",
       " 0.09489494562149048,\n",
       " -0.08026069402694702,\n",
       " 0.04369049891829491,\n",
       " -0.04115041717886925,\n",
       " -0.06650354713201523,\n",
       " -0.04617276042699814,\n",
       " -0.10964526981115341,\n",
       " -0.14105182886123657,\n",
       " -0.0075376396998763084,\n",
       " 0.03632287308573723,\n",
       " -0.055834848433732986,\n",
       " -0.03440498188138008,\n",
       " -0.07508490234613419,\n",
       " 0.024454690515995026,\n",
       " -0.022445764392614365,\n",
       " 0.048956237733364105,\n",
       " 0.012659204192459583,\n",
       " 0.020818762481212616,\n",
       " -0.006242705043405294,\n",
       " 0.03096894919872284,\n",
       " 0.05808902904391289,\n",
       " -0.06946788728237152,\n",
       " -0.07164648920297623,\n",
       " 0.038993388414382935,\n",
       " -0.03909081220626831,\n",
       " 0.04723680019378662,\n",
       " 0.020952723920345306,\n",
       " 0.0038825857918709517,\n",
       " -0.08786778151988983,\n",
       " 0.005515499971807003,\n",
       " 0.0071939742192626,\n",
       " -0.005700630601495504,\n",
       " 0.05821748450398445,\n",
       " 0.01098772045224905,\n",
       " -0.047842200845479965,\n",
       " -0.0356554314494133,\n",
       " -0.02196994423866272,\n",
       " 0.04230200871825218,\n",
       " 0.04455278813838959,\n",
       " -0.010735561139881611,\n",
       " 0.03280359134078026,\n",
       " -0.04079413414001465,\n",
       " -0.005694760475307703,\n",
       " -0.03739454969763756,\n",
       " -0.05699685588479042,\n",
       " 0.05182953551411629,\n",
       " 0.012253779917955399,\n",
       " -0.057627078145742416,\n",
       " -0.0328279510140419,\n",
       " 0.02680317312479019,\n",
       " 0.009590497240424156,\n",
       " 0.022551970556378365,\n",
       " 0.02317740023136139,\n",
       " -0.018149394541978836,\n",
       " 0.05288732424378395,\n",
       " 0.021104732528328896,\n",
       " 0.00020633121312130243,\n",
       " -0.032372988760471344,\n",
       " 0.020419850945472717,\n",
       " -0.03392374888062477,\n",
       " 0.052093613892793655,\n",
       " 0.06368330866098404,\n",
       " -0.04821724817156792,\n",
       " 0.10391045361757278,\n",
       " -0.10479861497879028,\n",
       " 0.0191019419580698,\n",
       " 0.007103650830686092,\n",
       " -0.0626167505979538,\n",
       " -0.011247389018535614,\n",
       " 0.02495676651597023,\n",
       " -0.00859874952584505,\n",
       " -0.026584457606077194,\n",
       " 0.055300306528806686,\n",
       " -0.05375504866242409,\n",
       " -0.036236703395843506,\n",
       " -0.042832668870687485,\n",
       " 0.00592055544257164,\n",
       " -0.06706736981868744,\n",
       " -0.005470504984259605,\n",
       " -0.06476282328367233,\n",
       " 0.0276896171271801,\n",
       " -0.02191137708723545,\n",
       " -5.489699677662181e-33,\n",
       " -0.08626525849103928,\n",
       " 0.04714952036738396,\n",
       " 0.07772690802812576,\n",
       " -0.04684368148446083,\n",
       " 0.016563501209020615,\n",
       " -0.024241667240858078,\n",
       " -0.04946513846516609,\n",
       " 0.021470313891768456,\n",
       " 0.06877955794334412,\n",
       " 0.03598552569746971,\n",
       " -0.08105659484863281,\n",
       " -0.08758816868066788,\n",
       " -0.023073291406035423,\n",
       " 0.07902756333351135,\n",
       " 0.04656239226460457,\n",
       " -0.012852841056883335,\n",
       " 0.031047316268086433,\n",
       " 0.009412304498255253,\n",
       " -0.1242704689502716,\n",
       " 0.0028338097035884857,\n",
       " -0.0015008418122306466,\n",
       " -0.026834039017558098,\n",
       " -0.03299783542752266,\n",
       " -0.03161267563700676,\n",
       " -0.013236058875918388,\n",
       " 0.041620686650276184,\n",
       " 0.014733905903995037,\n",
       " 0.049981456249952316,\n",
       " 0.03925091773271561,\n",
       " 0.01293905358761549,\n",
       " 0.02079843357205391,\n",
       " -0.04492839798331261,\n",
       " -0.04658187925815582,\n",
       " 0.02865108661353588,\n",
       " -0.009174767881631851,\n",
       " -0.05265261232852936,\n",
       " 0.06869551539421082,\n",
       " 0.009346544742584229,\n",
       " -0.0021831197664141655,\n",
       " -0.09840548038482666,\n",
       " 0.04362146928906441,\n",
       " -0.010754472576081753,\n",
       " -0.024776985868811607,\n",
       " 0.0403948649764061,\n",
       " -9.646737453294918e-05,\n",
       " 0.017042625695466995,\n",
       " 0.047673460096120834,\n",
       " -0.010164438746869564,\n",
       " 0.008502860553562641,\n",
       " 0.006218019872903824,\n",
       " -0.0637243464589119,\n",
       " 0.053840141743421555,\n",
       " -0.0533822663128376,\n",
       " -0.0820731669664383,\n",
       " 0.09555787593126297,\n",
       " 7.405746873700991e-05,\n",
       " 0.040045078843832016,\n",
       " 0.005643569398671389,\n",
       " -0.03877340257167816,\n",
       " 0.06128210574388504,\n",
       " 0.05844871327280998,\n",
       " 0.0006135071162134409,\n",
       " 0.0007811742252670228,\n",
       " -0.02251429669559002,\n",
       " -0.04165862873196602,\n",
       " 0.03945154324173927,\n",
       " -0.09647899866104126,\n",
       " -0.1106417328119278,\n",
       " 0.1079760268330574,\n",
       " 0.05158074572682381,\n",
       " 0.01552574709057808,\n",
       " 0.00478129368275404,\n",
       " 0.026140578091144562,\n",
       " 0.015418832190334797,\n",
       " 0.03454173356294632,\n",
       " -0.00815663207322359,\n",
       " -0.03112710453569889,\n",
       " 0.06341736763715744,\n",
       " 0.013111409731209278,\n",
       " -0.011666753329336643,\n",
       " -0.04013146832585335,\n",
       " 0.09387187659740448,\n",
       " -0.03278890624642372,\n",
       " -0.13160863518714905,\n",
       " -0.006051763892173767,\n",
       " -0.005421978421509266,\n",
       " 0.09086812287569046,\n",
       " -0.09280620515346527,\n",
       " 0.01136696245521307,\n",
       " 0.03645217791199684,\n",
       " -0.07185527682304382,\n",
       " 0.0328034982085228,\n",
       " -0.046492647379636765,\n",
       " 0.10514838993549347,\n",
       " -0.032608017325401306,\n",
       " 1.5243447072898639e-33,\n",
       " -0.05730271711945534,\n",
       " 0.06198697164654732,\n",
       " -0.017732081934809685,\n",
       " 0.0175744891166687,\n",
       " -0.07118351012468338,\n",
       " -0.005619996692985296,\n",
       " -0.0603116974234581,\n",
       " -0.013941983692348003,\n",
       " 0.060709938406944275,\n",
       " 0.0514681451022625,\n",
       " 0.025947079062461853,\n",
       " -0.014252161607146263,\n",
       " -0.004722906276583672,\n",
       " -0.03618538752198219,\n",
       " 0.01983913779258728,\n",
       " 0.053326111286878586,\n",
       " -0.06345845758914948,\n",
       " 0.039019010961055756,\n",
       " -0.07477866858243942,\n",
       " 0.012084619142115116,\n",
       " 0.03482838347554207,\n",
       " 0.06497393548488617,\n",
       " -0.09552593529224396,\n",
       " -0.03160257264971733,\n",
       " -0.05725497752428055,\n",
       " 0.1392233520746231,\n",
       " 0.019485970959067345,\n",
       " -0.014501214027404785,\n",
       " -0.05864204838871956,\n",
       " 0.07983993738889694,\n",
       " -0.08625052124261856,\n",
       " -0.06229086220264435,\n",
       " 0.005938871297985315,\n",
       " 0.027033008635044098,\n",
       " -0.06864680349826813,\n",
       " -0.11003147065639496,\n",
       " 0.08251915127038956,\n",
       " -0.05179619416594505,\n",
       " -0.018945490941405296,\n",
       " -0.037591613829135895,\n",
       " 0.014952066354453564,\n",
       " 0.08973368257284164,\n",
       " -0.0015651595313102007,\n",
       " 0.06029871478676796,\n",
       " -0.02617715112864971,\n",
       " -0.06572521477937698,\n",
       " 0.12644042074680328,\n",
       " 0.10183742642402649,\n",
       " 0.027857834473252296,\n",
       " 0.07133643329143524,\n",
       " 0.0250273197889328,\n",
       " -0.027153145521879196,\n",
       " 0.0785336047410965,\n",
       " 0.0003322418197058141,\n",
       " -0.006263253279030323,\n",
       " 0.12102442979812622,\n",
       " -0.07797901332378387,\n",
       " 0.05714184418320656,\n",
       " 0.04407680034637451,\n",
       " 0.05662134289741516,\n",
       " -0.018263710662722588,\n",
       " -0.07054458558559418,\n",
       " -0.015394467860460281,\n",
       " 0.0016662782290950418,\n",
       " 0.039403244853019714,\n",
       " -0.003835809649899602,\n",
       " 0.03504007309675217,\n",
       " 0.04232747480273247,\n",
       " 0.001969738630577922,\n",
       " 0.022391390055418015,\n",
       " -0.06077716127038002,\n",
       " 0.029387211427092552,\n",
       " -0.01757248304784298,\n",
       " -0.07038657367229462,\n",
       " 0.02318653091788292,\n",
       " -0.0045327190309762955,\n",
       " -0.05888351798057556,\n",
       " 0.03178488463163376,\n",
       " -0.01081612054258585,\n",
       " -0.026681771501898766,\n",
       " -0.027698185294866562,\n",
       " -0.032648202031850815,\n",
       " 0.034586600959300995,\n",
       " 0.06124744191765785,\n",
       " 0.08312547206878662,\n",
       " -0.013710866682231426,\n",
       " 0.03225918859243393,\n",
       " -0.026898102834820747,\n",
       " 0.029277494177222252,\n",
       " 0.048807043582201004,\n",
       " -0.01537825632840395,\n",
       " 0.08950559049844742,\n",
       " 0.014367700554430485,\n",
       " -0.010064993053674698,\n",
       " 0.03558506444096565,\n",
       " -4.45092638301503e-08,\n",
       " -0.03256950154900551,\n",
       " -0.003775500226765871,\n",
       " -0.053874846547842026,\n",
       " -0.08354361355304718,\n",
       " 0.07151690870523453,\n",
       " 0.00012184744264231995,\n",
       " -0.02761063165962696,\n",
       " -0.03503831848502159,\n",
       " -0.0475241094827652,\n",
       " -0.0027067067567259073,\n",
       " 0.0015553499106317759,\n",
       " -0.04655918478965759,\n",
       " -0.1822912096977234,\n",
       " 0.01865188032388687,\n",
       " -0.06991489231586456,\n",
       " -0.042194582521915436,\n",
       " -0.011207601986825466,\n",
       " 0.018323132768273354,\n",
       " -0.02102326788008213,\n",
       " -0.03425918146967888,\n",
       " 0.04636333882808685,\n",
       " -0.009107082150876522,\n",
       " 0.0370565801858902,\n",
       " -0.015141227282583714,\n",
       " -0.09562908858060837,\n",
       " 0.015172122977674007,\n",
       " -0.010763156227767467,\n",
       " 0.08348401635885239,\n",
       " -0.03359217196702957,\n",
       " 0.0784720629453659,\n",
       " -0.007495230063796043,\n",
       " 0.018093816936016083,\n",
       " 0.04186628758907318,\n",
       " -0.020478805527091026,\n",
       " 0.02046004682779312,\n",
       " -0.043762125074863434,\n",
       " 0.020652737468481064,\n",
       " 0.028425097465515137,\n",
       " 0.042161669582128525,\n",
       " 0.06909868866205215,\n",
       " 0.013017299585044384,\n",
       " -0.020457537844777107,\n",
       " 0.004344397224485874,\n",
       " 0.016992198303341866,\n",
       " 0.08778262138366699,\n",
       " 0.019351929426193237,\n",
       " 0.03225252777338028,\n",
       " -0.07444500923156738,\n",
       " -0.04772285744547844,\n",
       " 0.008829097263514996,\n",
       " -0.05091807618737221,\n",
       " 0.0003450305084697902,\n",
       " 0.0037024866323918104,\n",
       " 0.04580627754330635,\n",
       " -0.07211486995220184,\n",
       " -0.02161671780049801,\n",
       " 0.019375566393136978,\n",
       " -0.003247391665354371,\n",
       " -0.05821144953370094,\n",
       " 0.06661929935216904,\n",
       " 0.06271855533123016,\n",
       " 0.00442887656390667,\n",
       " -0.05158444121479988,\n",
       " -0.014586064033210278]"
      ]
     },
     "execution_count": 21,
     "metadata": {},
     "output_type": "execute_result"
    }
   ],
   "source": [
    "# How does an embedding look like\n",
    "embeddings[0]"
   ]
  },
  {
   "cell_type": "code",
   "execution_count": 22,
   "metadata": {
    "colab": {
     "base_uri": "https://localhost:8080/"
    },
    "id": "uycQjp4cCY6O",
    "outputId": "b8b94dab-7b5b-4bb9-865c-ce8ef3c840ec"
   },
   "outputs": [
    {
     "name": "stdout",
     "output_type": "stream",
     "text": [
      "Requirement already satisfied: faiss-cpu in /usr/local/lib/python3.11/dist-packages (1.11.0)\n",
      "Requirement already satisfied: numpy<3.0,>=1.25.0 in /usr/local/lib/python3.11/dist-packages (from faiss-cpu) (2.0.2)\n",
      "Requirement already satisfied: packaging in /usr/local/lib/python3.11/dist-packages (from faiss-cpu) (24.2)\n"
     ]
    }
   ],
   "source": [
    "# Store the embeddings in FAISS database/ index\n",
    "\n",
    "!pip install faiss-cpu"
   ]
  },
  {
   "cell_type": "code",
   "execution_count": 23,
   "metadata": {
    "id": "mYPMdAnQF7lN"
   },
   "outputs": [],
   "source": [
    "import faiss\n",
    "import numpy as np\n",
    "\n",
    "dimension = len(embeddings[0])\n",
    "index = faiss.IndexFlatL2(dimension)\n",
    "index.add(np.array(embeddings))"
   ]
  },
  {
   "cell_type": "code",
   "execution_count": 24,
   "metadata": {
    "id": "LWg1I-LYGrPb"
   },
   "outputs": [],
   "source": [
    "metadata = [{'type':chunk['type'],'title':chunk['title'],'content':chunk['content']} for chunk in chunks]\n",
    "\n",
    "faiss.write_index(index,'deepbot_faiss_index')\n",
    "np.save(\"deepbot_metadata.npy\",metadata)"
   ]
  },
  {
   "cell_type": "markdown",
   "metadata": {
    "id": "RE0UffE2JDBB"
   },
   "source": [
    "# Step 5: Testing retrieval using Query"
   ]
  },
  {
   "cell_type": "code",
   "execution_count": 25,
   "metadata": {
    "id": "Gj-YL2OsH2Sq"
   },
   "outputs": [],
   "source": [
    "# Reload index\n",
    "\n",
    "index = faiss.read_index(\"deepbot_faiss_index\")\n",
    "metadata = np.load(\"deepbot_metadata.npy\",allow_pickle=True)\n",
    "\n",
    "def retrieve(query, k = 3):\n",
    "  \"\"\"\n",
    "      Retrieves top 3 embeddings based on the query\n",
    "      top 3 is determined by the Eucledian distance\n",
    "  \"\"\"\n",
    "\n",
    "  embed_query = embedder.embed_query(query)\n",
    "  distances, indices = index.search(np.array([embed_query]),k)\n",
    "  # Returns the distances of top 3 embeddings and\n",
    "  # the indices of embeddings in the index\n",
    "\n",
    "  results = [metadata[i] for i in indices[0]]\n",
    "  # The corresponding chunks (which contain human understandable content)\n",
    "  # are retrieved from metadata.\n",
    "\n",
    "  return results"
   ]
  },
  {
   "cell_type": "code",
   "execution_count": 26,
   "metadata": {
    "colab": {
     "base_uri": "https://localhost:8080/"
    },
    "id": "RTXkEMWoKK_-",
    "outputId": "72bd343d-85c0-4696-a8ae-43cdefa40926"
   },
   "outputs": [
    {
     "name": "stdout",
     "output_type": "stream",
     "text": [
      "Type: Lecture Transcripts\n",
      "Title: Lecture Transcripts\n",
      "Content: (Refer Slide Time: 00:49)\n",
      "So, the topics that I will covered is; obviously, the first one is an introduction to deep\n",
      "learning, then we will talk about that when we learn something how do we learn, in the sense\n",
      "that we learned certain properties or certain features or certain descriptors using which we\n",
      "recognize an event or we recognize an object. So, we are going to have a brief introduction to\n",
      "what are descriptors or what are feature vectors.\n",
      "\n",
      "Type: Lecture Transcripts\n",
      "Title: Lecture Transcripts\n",
      "Content: 22\n",
      "(Refer Slide Time: 30:57)\n",
      "Similarly, we can also compose videos with different styles.\n",
      "(Refer Slide Time: 31:13)\n",
      "So, all these are possible using modern day planning techniques and there were multiple\n",
      "applications like in medical image processing, in object recognition, in speech recognition\n",
      "and so on. So, we will talk about all these different aspects of these deep learning techniques\n",
      "23\n",
      "in subsequent lectures of this course. I hope we will be able to learn the content of these deep\n",
      "\n",
      "Type: Lecture Transcripts\n",
      "Title: Lecture Transcripts\n",
      "Content: lectures, we are discussing about the different popular convolutional neural network \n",
      "architectures. And while doing so, in our previous lecture we have tried to see that what \n",
      "are the challenges of a deep neural network and we were also discussing that how those \n",
      "challenges are addressed or can be addressed in different networks. \n",
      "(Refer Slide Time: 01:05) \n",
      " \n",
      "So, we have talked about the challenges in deep learning and let us just try to recapitulate\n",
      "\n"
     ]
    }
   ],
   "source": [
    "query = \"Explain topics in Week 1 slides\"\n",
    "\n",
    "results = retrieve(query)\n",
    "for result in results:\n",
    "  print(\"Type: \"+result[\"type\"])\n",
    "  print(\"Title: \"+result[\"title\"])\n",
    "  print(\"Content: \"+result[\"content\"])\n",
    "  print()"
   ]
  },
  {
   "cell_type": "markdown",
   "metadata": {
    "id": "MES3YX9KAnCD"
   },
   "source": [
    "# Step 6: Creation of Generator"
   ]
  },
  {
   "cell_type": "code",
   "execution_count": 27,
   "metadata": {
    "colab": {
     "base_uri": "https://localhost:8080/"
    },
    "id": "dZDcK8Fk-7Pq",
    "outputId": "e64b200e-5d24-47e7-ad4b-4a25ff3fad2f"
   },
   "outputs": [
    {
     "name": "stdout",
     "output_type": "stream",
     "text": [
      "Requirement already satisfied: gradio in /usr/local/lib/python3.11/dist-packages (5.31.0)\n",
      "Requirement already satisfied: transformers in /usr/local/lib/python3.11/dist-packages (4.52.3)\n",
      "Requirement already satisfied: sentence-transformers in /usr/local/lib/python3.11/dist-packages (4.1.0)\n",
      "Requirement already satisfied: aiofiles<25.0,>=22.0 in /usr/local/lib/python3.11/dist-packages (from gradio) (24.1.0)\n",
      "Requirement already satisfied: anyio<5.0,>=3.0 in /usr/local/lib/python3.11/dist-packages (from gradio) (4.9.0)\n",
      "Requirement already satisfied: fastapi<1.0,>=0.115.2 in /usr/local/lib/python3.11/dist-packages (from gradio) (0.115.12)\n",
      "Requirement already satisfied: ffmpy in /usr/local/lib/python3.11/dist-packages (from gradio) (0.5.0)\n",
      "Requirement already satisfied: gradio-client==1.10.1 in /usr/local/lib/python3.11/dist-packages (from gradio) (1.10.1)\n",
      "Requirement already satisfied: groovy~=0.1 in /usr/local/lib/python3.11/dist-packages (from gradio) (0.1.2)\n",
      "Requirement already satisfied: httpx>=0.24.1 in /usr/local/lib/python3.11/dist-packages (from gradio) (0.28.1)\n",
      "Requirement already satisfied: huggingface-hub>=0.28.1 in /usr/local/lib/python3.11/dist-packages (from gradio) (0.32.2)\n",
      "Requirement already satisfied: jinja2<4.0 in /usr/local/lib/python3.11/dist-packages (from gradio) (3.1.6)\n",
      "Requirement already satisfied: markupsafe<4.0,>=2.0 in /usr/local/lib/python3.11/dist-packages (from gradio) (3.0.2)\n",
      "Requirement already satisfied: numpy<3.0,>=1.0 in /usr/local/lib/python3.11/dist-packages (from gradio) (2.0.2)\n",
      "Requirement already satisfied: orjson~=3.0 in /usr/local/lib/python3.11/dist-packages (from gradio) (3.10.18)\n",
      "Requirement already satisfied: packaging in /usr/local/lib/python3.11/dist-packages (from gradio) (24.2)\n",
      "Requirement already satisfied: pandas<3.0,>=1.0 in /usr/local/lib/python3.11/dist-packages (from gradio) (2.2.2)\n",
      "Requirement already satisfied: pillow<12.0,>=8.0 in /usr/local/lib/python3.11/dist-packages (from gradio) (11.2.1)\n",
      "Requirement already satisfied: pydantic<2.12,>=2.0 in /usr/local/lib/python3.11/dist-packages (from gradio) (2.11.5)\n",
      "Requirement already satisfied: pydub in /usr/local/lib/python3.11/dist-packages (from gradio) (0.25.1)\n",
      "Requirement already satisfied: python-multipart>=0.0.18 in /usr/local/lib/python3.11/dist-packages (from gradio) (0.0.20)\n",
      "Requirement already satisfied: pyyaml<7.0,>=5.0 in /usr/local/lib/python3.11/dist-packages (from gradio) (6.0.2)\n",
      "Requirement already satisfied: ruff>=0.9.3 in /usr/local/lib/python3.11/dist-packages (from gradio) (0.11.12)\n",
      "Requirement already satisfied: safehttpx<0.2.0,>=0.1.6 in /usr/local/lib/python3.11/dist-packages (from gradio) (0.1.6)\n",
      "Requirement already satisfied: semantic-version~=2.0 in /usr/local/lib/python3.11/dist-packages (from gradio) (2.10.0)\n",
      "Requirement already satisfied: starlette<1.0,>=0.40.0 in /usr/local/lib/python3.11/dist-packages (from gradio) (0.46.2)\n",
      "Requirement already satisfied: tomlkit<0.14.0,>=0.12.0 in /usr/local/lib/python3.11/dist-packages (from gradio) (0.13.2)\n",
      "Requirement already satisfied: typer<1.0,>=0.12 in /usr/local/lib/python3.11/dist-packages (from gradio) (0.16.0)\n",
      "Requirement already satisfied: typing-extensions~=4.0 in /usr/local/lib/python3.11/dist-packages (from gradio) (4.13.2)\n",
      "Requirement already satisfied: uvicorn>=0.14.0 in /usr/local/lib/python3.11/dist-packages (from gradio) (0.34.2)\n",
      "Requirement already satisfied: fsspec in /usr/local/lib/python3.11/dist-packages (from gradio-client==1.10.1->gradio) (2025.3.2)\n",
      "Requirement already satisfied: websockets<16.0,>=10.0 in /usr/local/lib/python3.11/dist-packages (from gradio-client==1.10.1->gradio) (15.0.1)\n",
      "Requirement already satisfied: filelock in /usr/local/lib/python3.11/dist-packages (from transformers) (3.18.0)\n",
      "Requirement already satisfied: regex!=2019.12.17 in /usr/local/lib/python3.11/dist-packages (from transformers) (2024.11.6)\n",
      "Requirement already satisfied: requests in /usr/local/lib/python3.11/dist-packages (from transformers) (2.32.3)\n",
      "Requirement already satisfied: tokenizers<0.22,>=0.21 in /usr/local/lib/python3.11/dist-packages (from transformers) (0.21.1)\n",
      "Requirement already satisfied: safetensors>=0.4.3 in /usr/local/lib/python3.11/dist-packages (from transformers) (0.5.3)\n",
      "Requirement already satisfied: tqdm>=4.27 in /usr/local/lib/python3.11/dist-packages (from transformers) (4.67.1)\n",
      "Requirement already satisfied: torch>=1.11.0 in /usr/local/lib/python3.11/dist-packages (from sentence-transformers) (2.6.0+cu124)\n",
      "Requirement already satisfied: scikit-learn in /usr/local/lib/python3.11/dist-packages (from sentence-transformers) (1.6.1)\n",
      "Requirement already satisfied: scipy in /usr/local/lib/python3.11/dist-packages (from sentence-transformers) (1.15.3)\n",
      "Requirement already satisfied: idna>=2.8 in /usr/local/lib/python3.11/dist-packages (from anyio<5.0,>=3.0->gradio) (3.10)\n",
      "Requirement already satisfied: sniffio>=1.1 in /usr/local/lib/python3.11/dist-packages (from anyio<5.0,>=3.0->gradio) (1.3.1)\n",
      "Requirement already satisfied: certifi in /usr/local/lib/python3.11/dist-packages (from httpx>=0.24.1->gradio) (2025.4.26)\n",
      "Requirement already satisfied: httpcore==1.* in /usr/local/lib/python3.11/dist-packages (from httpx>=0.24.1->gradio) (1.0.9)\n",
      "Requirement already satisfied: h11>=0.16 in /usr/local/lib/python3.11/dist-packages (from httpcore==1.*->httpx>=0.24.1->gradio) (0.16.0)\n",
      "Requirement already satisfied: hf-xet<2.0.0,>=1.1.2 in /usr/local/lib/python3.11/dist-packages (from huggingface-hub>=0.28.1->gradio) (1.1.2)\n",
      "Requirement already satisfied: python-dateutil>=2.8.2 in /usr/local/lib/python3.11/dist-packages (from pandas<3.0,>=1.0->gradio) (2.9.0.post0)\n",
      "Requirement already satisfied: pytz>=2020.1 in /usr/local/lib/python3.11/dist-packages (from pandas<3.0,>=1.0->gradio) (2025.2)\n",
      "Requirement already satisfied: tzdata>=2022.7 in /usr/local/lib/python3.11/dist-packages (from pandas<3.0,>=1.0->gradio) (2025.2)\n",
      "Requirement already satisfied: annotated-types>=0.6.0 in /usr/local/lib/python3.11/dist-packages (from pydantic<2.12,>=2.0->gradio) (0.7.0)\n",
      "Requirement already satisfied: pydantic-core==2.33.2 in /usr/local/lib/python3.11/dist-packages (from pydantic<2.12,>=2.0->gradio) (2.33.2)\n",
      "Requirement already satisfied: typing-inspection>=0.4.0 in /usr/local/lib/python3.11/dist-packages (from pydantic<2.12,>=2.0->gradio) (0.4.1)\n",
      "Requirement already satisfied: networkx in /usr/local/lib/python3.11/dist-packages (from torch>=1.11.0->sentence-transformers) (3.5)\n",
      "Requirement already satisfied: nvidia-cuda-nvrtc-cu12==12.4.127 in /usr/local/lib/python3.11/dist-packages (from torch>=1.11.0->sentence-transformers) (12.4.127)\n",
      "Requirement already satisfied: nvidia-cuda-runtime-cu12==12.4.127 in /usr/local/lib/python3.11/dist-packages (from torch>=1.11.0->sentence-transformers) (12.4.127)\n",
      "Requirement already satisfied: nvidia-cuda-cupti-cu12==12.4.127 in /usr/local/lib/python3.11/dist-packages (from torch>=1.11.0->sentence-transformers) (12.4.127)\n",
      "Requirement already satisfied: nvidia-cudnn-cu12==9.1.0.70 in /usr/local/lib/python3.11/dist-packages (from torch>=1.11.0->sentence-transformers) (9.1.0.70)\n",
      "Requirement already satisfied: nvidia-cublas-cu12==12.4.5.8 in /usr/local/lib/python3.11/dist-packages (from torch>=1.11.0->sentence-transformers) (12.4.5.8)\n",
      "Requirement already satisfied: nvidia-cufft-cu12==11.2.1.3 in /usr/local/lib/python3.11/dist-packages (from torch>=1.11.0->sentence-transformers) (11.2.1.3)\n",
      "Requirement already satisfied: nvidia-curand-cu12==10.3.5.147 in /usr/local/lib/python3.11/dist-packages (from torch>=1.11.0->sentence-transformers) (10.3.5.147)\n",
      "Requirement already satisfied: nvidia-cusolver-cu12==11.6.1.9 in /usr/local/lib/python3.11/dist-packages (from torch>=1.11.0->sentence-transformers) (11.6.1.9)\n",
      "Requirement already satisfied: nvidia-cusparse-cu12==12.3.1.170 in /usr/local/lib/python3.11/dist-packages (from torch>=1.11.0->sentence-transformers) (12.3.1.170)\n",
      "Requirement already satisfied: nvidia-cusparselt-cu12==0.6.2 in /usr/local/lib/python3.11/dist-packages (from torch>=1.11.0->sentence-transformers) (0.6.2)\n",
      "Requirement already satisfied: nvidia-nccl-cu12==2.21.5 in /usr/local/lib/python3.11/dist-packages (from torch>=1.11.0->sentence-transformers) (2.21.5)\n",
      "Requirement already satisfied: nvidia-nvtx-cu12==12.4.127 in /usr/local/lib/python3.11/dist-packages (from torch>=1.11.0->sentence-transformers) (12.4.127)\n",
      "Requirement already satisfied: nvidia-nvjitlink-cu12==12.4.127 in /usr/local/lib/python3.11/dist-packages (from torch>=1.11.0->sentence-transformers) (12.4.127)\n",
      "Requirement already satisfied: triton==3.2.0 in /usr/local/lib/python3.11/dist-packages (from torch>=1.11.0->sentence-transformers) (3.2.0)\n",
      "Requirement already satisfied: sympy==1.13.1 in /usr/local/lib/python3.11/dist-packages (from torch>=1.11.0->sentence-transformers) (1.13.1)\n",
      "Requirement already satisfied: mpmath<1.4,>=1.1.0 in /usr/local/lib/python3.11/dist-packages (from sympy==1.13.1->torch>=1.11.0->sentence-transformers) (1.3.0)\n",
      "Requirement already satisfied: click>=8.0.0 in /usr/local/lib/python3.11/dist-packages (from typer<1.0,>=0.12->gradio) (8.2.1)\n",
      "Requirement already satisfied: shellingham>=1.3.0 in /usr/local/lib/python3.11/dist-packages (from typer<1.0,>=0.12->gradio) (1.5.4)\n",
      "Requirement already satisfied: rich>=10.11.0 in /usr/local/lib/python3.11/dist-packages (from typer<1.0,>=0.12->gradio) (13.9.4)\n",
      "Requirement already satisfied: charset-normalizer<4,>=2 in /usr/local/lib/python3.11/dist-packages (from requests->transformers) (3.4.2)\n",
      "Requirement already satisfied: urllib3<3,>=1.21.1 in /usr/local/lib/python3.11/dist-packages (from requests->transformers) (2.4.0)\n",
      "Requirement already satisfied: joblib>=1.2.0 in /usr/local/lib/python3.11/dist-packages (from scikit-learn->sentence-transformers) (1.5.1)\n",
      "Requirement already satisfied: threadpoolctl>=3.1.0 in /usr/local/lib/python3.11/dist-packages (from scikit-learn->sentence-transformers) (3.6.0)\n",
      "Requirement already satisfied: six>=1.5 in /usr/local/lib/python3.11/dist-packages (from python-dateutil>=2.8.2->pandas<3.0,>=1.0->gradio) (1.17.0)\n",
      "Requirement already satisfied: markdown-it-py>=2.2.0 in /usr/local/lib/python3.11/dist-packages (from rich>=10.11.0->typer<1.0,>=0.12->gradio) (3.0.0)\n",
      "Requirement already satisfied: pygments<3.0.0,>=2.13.0 in /usr/local/lib/python3.11/dist-packages (from rich>=10.11.0->typer<1.0,>=0.12->gradio) (2.19.1)\n",
      "Requirement already satisfied: mdurl~=0.1 in /usr/local/lib/python3.11/dist-packages (from markdown-it-py>=2.2.0->rich>=10.11.0->typer<1.0,>=0.12->gradio) (0.1.2)\n"
     ]
    }
   ],
   "source": [
    "!pip install gradio transformers sentence-transformers"
   ]
  },
  {
   "cell_type": "code",
   "execution_count": 28,
   "metadata": {
    "colab": {
     "base_uri": "https://localhost:8080/",
     "height": 113,
     "referenced_widgets": [
      "3e106222a03743bd9f0265692b909f3d",
      "3f7727d5b0f649eeb4d60a64f4573110",
      "4035bd3e0a1941b1a84f2da4de17e1ba",
      "4c0bc48b2978405198d56022af69c296",
      "f58f8c518b894ebf91e5ab23298f9d24",
      "b493194f7c0444d29b531cc588309289",
      "190b59137c654c1e968a9b74ef7115d6",
      "c4d4b1e26ba94b5e85034bb9aed9badc",
      "3a6f3479b65d4fa39825c6154016db75",
      "80be9e313a5142728147fef955d558ce",
      "efce1fe7491540eb84af219c7d235d5f",
      "e332e8582da64e668021a733307e72b0",
      "23a1fb5f57a941d1b52421912e6257f7",
      "4bfb39de7d224063a5b3ec9685330428",
      "a3e90fca1eac4462a6e319baba838c21",
      "77919292758e4b679b407e294e080fd7",
      "91db0f707ee945b3975257591852d7a1",
      "9c44f15621794a949247ae4cc037f615",
      "a4e24b38e23c4581979307b922363fe9",
      "dc60fc95e2bb4cc9b3bb96f00706730f",
      "507898c5a67e41578e57c5d276335123",
      "7eb26fc69611443890c22b726b3af1af",
      "0d7678b0e61a4688866df4b8d8410df5",
      "02418e75adf1477c9b783b651fa3dd41",
      "79ff0f6a5f734a46b0a9ba41d2794ed9",
      "a7aa6f33b95c43b2a450aa1a3f3a6659",
      "84fc05ab253c4774b56ad39e404d265d",
      "c5996c34bc9042e8bd9f9e2d8192adaf",
      "36f98e1252d041dab9d059324e7dd444",
      "55a6b453db0f4dd6af5cf912fda7e0ab",
      "0beee6059acf41688509a7ef6397c4f2",
      "c9c3bc1a44784ee09272408694b57e4e",
      "cd06e04b73334d21be988cf408a1670d"
     ]
    },
    "id": "e2ZfV8qT_OQN",
    "outputId": "8e00cad0-f28e-4209-f0e2-62b847b8c27c"
   },
   "outputs": [
    {
     "data": {
      "application/vnd.jupyter.widget-view+json": {
       "model_id": "3e106222a03743bd9f0265692b909f3d",
       "version_major": 2,
       "version_minor": 0
      },
      "text/plain": [
       "config.json:   0%|          | 0.00/662 [00:00<?, ?B/s]"
      ]
     },
     "metadata": {},
     "output_type": "display_data"
    },
    {
     "data": {
      "application/vnd.jupyter.widget-view+json": {
       "model_id": "e332e8582da64e668021a733307e72b0",
       "version_major": 2,
       "version_minor": 0
      },
      "text/plain": [
       "model.safetensors:   0%|          | 0.00/3.13G [00:00<?, ?B/s]"
      ]
     },
     "metadata": {},
     "output_type": "display_data"
    },
    {
     "data": {
      "application/vnd.jupyter.widget-view+json": {
       "model_id": "0d7678b0e61a4688866df4b8d8410df5",
       "version_major": 2,
       "version_minor": 0
      },
      "text/plain": [
       "generation_config.json:   0%|          | 0.00/147 [00:00<?, ?B/s]"
      ]
     },
     "metadata": {},
     "output_type": "display_data"
    }
   ],
   "source": [
    "import gradio as gr\n",
    "from transformers import AutoTokenizer,AutoModelForSeq2SeqLM\n",
    "\n",
    "model_name = \"google/flan-t5-large\"\n",
    "tokenizer = AutoTokenizer.from_pretrained(model_name)\n",
    "model = AutoModelForSeq2SeqLM.from_pretrained(model_name)"
   ]
  },
  {
   "cell_type": "code",
   "execution_count": 37,
   "metadata": {
    "id": "BlxaT-OBwJTT"
   },
   "outputs": [],
   "source": [
    "# Function to generate response\n",
    "\n",
    "def generate_response(prompt):\n",
    "  input = tokenizer(prompt , return_tensors = \"pt\" , padding = True, truncation = True, max_length = 512)\n",
    "  output = model.generate(**input, max_length = 150, num_beams = 4, early_stopping = True)\n",
    "  return tokenizer.decode(output[0], skip_special_tokens = True)"
   ]
  },
  {
   "cell_type": "markdown",
   "metadata": {
    "id": "DNIZ7w2I-Vdg"
   },
   "source": [
    "# Step 8: Integrate the Retriever and Generator"
   ]
  },
  {
   "cell_type": "code",
   "execution_count": 31,
   "metadata": {
    "id": "zCVqQtey-TcP"
   },
   "outputs": [],
   "source": [
    "def ask_rag(query,retriever,generator,system_prompt):\n",
    "\n",
    "  retrieved_chunks = retrieve(query)\n",
    "  context = \"\\n\".join(chunk[\"content\"] for chunk in retrieved_chunks)\n",
    "  # Prompt = Context (retrieved chunks) + Question(Query asked by user) + System Prompt\n",
    "  # System Prompt - guides the models behaviour\n",
    "  prompt = f\"{system_prompt}\\n\\nContext:{context}\\n\\nQuestion:{query}\\n\\nAnswer:\"\n",
    "  response = generator(prompt)\n",
    "\n",
    "  return response"
   ]
  },
  {
   "cell_type": "markdown",
   "metadata": {
    "id": "9GvYyXILBMrB"
   },
   "source": [
    "# Step 9: Create the interface with gradio"
   ]
  },
  {
   "cell_type": "code",
   "execution_count": 41,
   "metadata": {
    "colab": {
     "base_uri": "https://localhost:8080/",
     "height": 646
    },
    "id": "gV27KWOKBMIL",
    "outputId": "99a870d1-0c81-45da-df40-13703031aa6f"
   },
   "outputs": [
    {
     "name": "stdout",
     "output_type": "stream",
     "text": [
      "It looks like you are running Gradio on a hosted a Jupyter notebook. For the Gradio app to work, sharing must be enabled. Automatically setting `share=True` (you can turn this off by setting `share=False` in `launch()` explicitly).\n",
      "\n",
      "Colab notebook detected. To show errors in colab notebook, set debug=True in launch()\n",
      "* Running on public URL: https://4b50abd83f545c2c04.gradio.live\n",
      "\n",
      "This share link expires in 1 week. For free permanent hosting and GPU upgrades, run `gradio deploy` from the terminal in the working directory to deploy to Hugging Face Spaces (https://huggingface.co/spaces)\n"
     ]
    },
    {
     "data": {
      "text/html": [
       "<div><iframe src=\"https://4b50abd83f545c2c04.gradio.live\" width=\"100%\" height=\"500\" allow=\"autoplay; camera; microphone; clipboard-read; clipboard-write;\" frameborder=\"0\" allowfullscreen></iframe></div>"
      ],
      "text/plain": [
       "<IPython.core.display.HTML object>"
      ]
     },
     "metadata": {},
     "output_type": "display_data"
    },
    {
     "data": {
      "text/plain": []
     },
     "execution_count": 41,
     "metadata": {},
     "output_type": "execute_result"
    }
   ],
   "source": [
    "system_prompt = \"\"\"\n",
    "You are a kind, emotionally-aware teaching assistant trained on my course PDFs for the subject \"Deep Learning\" Your name is DeepBot.\n",
    "\n",
    "Your behavior must replicate a supportive AI like ChatGPT...\n",
    "\"\"\"\n",
    "def ask_rag_interface(query):\n",
    "  return ask_rag(query,retrieve,generate_response,system_prompt)\n",
    "\n",
    "# Gradio Interface\n",
    "interface = gr.Interface(\n",
    "    fn=generate_response,\n",
    "    inputs=gr.Textbox(label=\"Ask your Question\"),\n",
    "    outputs=gr.Textbox(label=\"Answer\"),\n",
    "    title=\"DeepBot: Your Deep Learning TA\",\n",
    "    description=\"Ask DeepBot any question about Deep Learning!\"\n",
    ")\n",
    "\n",
    "interface.launch()"
   ]
  }
 ],
 "metadata": {
  "colab": {
   "provenance": []
  },
  "kernelspec": {
   "display_name": "Python 3",
   "name": "python3"
  },
  "language_info": {
   "name": "python"
  }
 },
 "nbformat": 4,
 "nbformat_minor": 0
}
